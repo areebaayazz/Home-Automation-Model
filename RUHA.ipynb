{
 "cells": [
  {
   "cell_type": "code",
   "execution_count": 1,
   "id": "e58b3597",
   "metadata": {},
   "outputs": [
    {
     "name": "stdout",
     "output_type": "stream",
     "text": [
      "Requirement already satisfied: imbalanced-learn in c:\\users\\areeba\\anaconda3\\lib\\site-packages (0.8.1)\n",
      "Requirement already satisfied: scikit-learn>=0.24 in c:\\users\\areeba\\anaconda3\\lib\\site-packages (from imbalanced-learn) (0.24.1)\n",
      "Requirement already satisfied: numpy>=1.13.3 in c:\\users\\areeba\\anaconda3\\lib\\site-packages (from imbalanced-learn) (1.20.1)\n",
      "Requirement already satisfied: scipy>=0.19.1 in c:\\users\\areeba\\anaconda3\\lib\\site-packages (from imbalanced-learn) (1.6.2)\n",
      "Requirement already satisfied: joblib>=0.11 in c:\\users\\areeba\\anaconda3\\lib\\site-packages (from imbalanced-learn) (1.0.1)\n",
      "Requirement already satisfied: threadpoolctl>=2.0.0 in c:\\users\\areeba\\anaconda3\\lib\\site-packages (from scikit-learn>=0.24->imbalanced-learn) (2.1.0)\n"
     ]
    }
   ],
   "source": [
    "import librosa\n",
    "from librosa import feature\n",
    "import soundfile as sf\n",
    "import os\n",
    "import numpy as np\n",
    "import zipfile\n",
    "import pandas as pd\n",
    "from sklearn.model_selection import train_test_split\n",
    "from sklearn.preprocessing import LabelEncoder\n",
    "!pip install imbalanced-learn\n",
    "import imblearn\n",
    "from imblearn.over_sampling import SMOTE\n",
    "from sklearn.model_selection import train_test_split\n"
   ]
  },
  {
   "cell_type": "code",
   "execution_count": 2,
   "id": "1dcb30a8",
   "metadata": {},
   "outputs": [],
   "source": [
    "\n",
    "#Extracting the zip folder in another folder named \"PAI\"\n",
    "try:\n",
    "    with zipfile.ZipFile (\"C:\\\\Users\\\\Areeba\\\\Downloads\\\\Project\\\\PAI_VolunteerTask.zip\" , 'r') as z:\n",
    "        z.extractall(\"C:\\\\Users\\\\Areeba\\\\Downloads\\\\Project\\PAI\")\n",
    "        \n",
    "#If the folder already exists it goes here\n",
    "except:\n",
    "    print(\"Folder already unzipped\");\n",
    "\n",
    "#Storing the path of unzipped file here in PAIVolunteerTask_Path    \n",
    "PAIVolunteerTask_Path = \"C:\\\\Users\\\\Areeba\\\\Downloads\\\\Project\\\\PAI\\\\PAI_VolunteerTask\"\n",
    "\n"
   ]
  },
  {
   "cell_type": "code",
   "execution_count": 5,
   "id": "bb32cf6c",
   "metadata": {},
   "outputs": [],
   "source": [
    "name = []\n",
    "mfccft= []\n",
    "labels=[]\n",
    "\n",
    "for i in os.listdir(PAIVolunteerTask_Path):\n",
    "    npath = os.path.join(PAIVolunteerTask_Path,i)\n",
    "    name.append(npath)\n",
    "for n in name:\n",
    "    for file in os.listdir(n):\n",
    "        vnpath = os.path.join(n,file)\n",
    "        x,sr = librosa.load(vnpath)\n",
    "        mfccFeatures = librosa.feature.mfcc( y=x , sr=sr)\n",
    "        MFCC = mfccFeatures.flatten().tolist()\n",
    "        mfccft.append(MFCC) \n",
    "        l = n.replace(\"C:\\\\Users\\\\Areeba\\\\Downloads\\\\Project\\\\PAI\\\\PAI_VolunteerTask\\\\\" , \"\")\n",
    "        labels.append(l)\n"
   ]
  },
  {
   "cell_type": "code",
   "execution_count": null,
   "id": "71e5abfd",
   "metadata": {},
   "outputs": [],
   "source": [
    "dataf = pd.DataFrame(mfccft)\n",
    "dataf.to_csv(\"mfcc.csv\")\n",
    "print (dataf)"
   ]
  },
  {
   "cell_type": "code",
   "execution_count": 18,
   "id": "fd93b563",
   "metadata": {},
   "outputs": [],
   "source": [
    "from sklearn.model_selection import train_test_split\n",
    "dataf=dataf.dropna(axis=1)"
   ]
  },
  {
   "cell_type": "code",
   "execution_count": 23,
   "id": "7f9fd310",
   "metadata": {},
   "outputs": [],
   "source": [
    "from sklearn.model_selection import train_test_split\n",
    "from sklearn.preprocessing import LabelEncoder\n",
    "\n",
    "lE = LabelEncoder()\n",
    "l = lE.fit_transform(labels)\n",
    "labels = l\n",
    "\n",
    "dataf2 = pd.DataFrame(labels)\n",
    "dataf2.to_csv(\"Labels.csv\")"
   ]
  },
  {
   "cell_type": "code",
   "execution_count": 24,
   "id": "876870cc",
   "metadata": {},
   "outputs": [],
   "source": [
    "import imblearn #to improve accuracy and f1 scores\n",
    "#generates dataset with equal ratio of classes\n",
    "from imblearn.over_sampling import SMOTE\n",
    "sm = SMOTE()\n",
    "X_sm,y_sm=sm.fit_resample(dataf.dropna(axis=1),dataf2.dropna(axis=1))\n",
    "X_train, X_test, y_train, y_test =train_test_split(X_sm, y_sm , test_size=0.2, random_state=80)"
   ]
  },
  {
   "cell_type": "code",
   "execution_count": 32,
   "id": "35331a82",
   "metadata": {},
   "outputs": [
    {
     "name": "stderr",
     "output_type": "stream",
     "text": [
      "C:\\Users\\Areeba\\anaconda3\\lib\\site-packages\\sklearn\\neighbors\\_classification.py:179: DataConversionWarning: A column-vector y was passed when a 1d array was expected. Please change the shape of y to (n_samples,), for example using ravel().\n",
      "  return self._fit(X, y)\n"
     ]
    },
    {
     "name": "stdout",
     "output_type": "stream",
     "text": [
      "Accuracy :  77.6087725504068\n",
      "Report : \n",
      "               precision    recall  f1-score   support\n",
      "\n",
      "           0       0.81      1.00      0.90       697\n",
      "           1       0.87      0.39      0.54       715\n",
      "           2       0.75      1.00      0.86       705\n",
      "           3       0.73      0.72      0.72       710\n",
      "\n",
      "    accuracy                           0.78      2827\n",
      "   macro avg       0.79      0.78      0.75      2827\n",
      "weighted avg       0.79      0.78      0.75      2827\n",
      "\n",
      "F1 Score :  75.44017853518862\n"
     ]
    }
   ],
   "source": [
    "from sklearn.neighbors import KNeighborsClassifier #classifier 1 KNN\n",
    "from sklearn.metrics import accuracy_score\n",
    "from sklearn.metrics import f1_score\n",
    "from sklearn.metrics import classification_report\n",
    "\n",
    "X_train,X_test,y_train,y_test=train_test_split(X_sm,y_sm,test_size=0.2,random_state=51)\n",
    "\n",
    "c1 = KNeighborsClassifier()\n",
    "c1.fit(X_train, y_train)\n",
    "p = c1.predict(X_test)\n",
    "c1.score(X_test,y_test)\n",
    "print (\"Accuracy : \" , accuracy_score(y_test,p)*100)  \n",
    "print(\"Report : \\n\", classification_report(y_test, p))\n",
    "print(\"F1 Score : \",f1_score(y_test, p, average='macro')*100)"
   ]
  },
  {
   "cell_type": "code",
   "execution_count": 33,
   "id": "bd2e0549",
   "metadata": {},
   "outputs": [
    {
     "name": "stdout",
     "output_type": "stream",
     "text": [
      "Accuracy :  70.49876193845066\n",
      "Report : \n",
      "               precision    recall  f1-score   support\n",
      "\n",
      "           0       0.79      0.85      0.82       697\n",
      "           1       0.61      0.51      0.55       715\n",
      "           2       0.77      0.82      0.80       705\n",
      "           3       0.63      0.65      0.64       710\n",
      "\n",
      "    accuracy                           0.70      2827\n",
      "   macro avg       0.70      0.71      0.70      2827\n",
      "weighted avg       0.70      0.70      0.70      2827\n",
      "\n",
      "F1 Score :  70.11184927931974\n"
     ]
    }
   ],
   "source": [
    "from sklearn import tree #classifier 2 Decision Tree\n",
    "\n",
    "c2 = tree.DecisionTreeClassifier()\n",
    "c2 = c2.fit(X_train, y_train)\n",
    "p = c2.predict(X_test)\n",
    "c2.score(X_test,y_test)\n",
    "\n",
    "print (\"Accuracy : \" , accuracy_score(y_test,p)*100)  \n",
    "print(\"Report : \\n\", classification_report(y_test, p))\n",
    "print(\"F1 Score : \",f1_score(y_test, p, average='macro')*100)"
   ]
  },
  {
   "cell_type": "code",
   "execution_count": 34,
   "id": "6a0ec4c3",
   "metadata": {},
   "outputs": [
    {
     "name": "stdout",
     "output_type": "stream",
     "text": [
      "Accuracy :  23.381676689069685\n",
      "Report : \n",
      "               precision    recall  f1-score   support\n",
      "\n",
      "          -1       0.00      0.00      0.00         0\n",
      "           0       0.00      0.00      0.00       697\n",
      "           1       0.25      0.92      0.39       715\n",
      "           2       0.00      0.00      0.00       705\n",
      "           3       0.00      0.00      0.00       710\n",
      "\n",
      "    accuracy                           0.23      2827\n",
      "   macro avg       0.05      0.18      0.08      2827\n",
      "weighted avg       0.06      0.23      0.10      2827\n",
      "\n",
      "F1 Score :  7.751392553503371\n"
     ]
    },
    {
     "name": "stderr",
     "output_type": "stream",
     "text": [
      "C:\\Users\\Areeba\\anaconda3\\lib\\site-packages\\sklearn\\metrics\\_classification.py:1245: UndefinedMetricWarning: Precision and F-score are ill-defined and being set to 0.0 in labels with no predicted samples. Use `zero_division` parameter to control this behavior.\n",
      "  _warn_prf(average, modifier, msg_start, len(result))\n",
      "C:\\Users\\Areeba\\anaconda3\\lib\\site-packages\\sklearn\\metrics\\_classification.py:1245: UndefinedMetricWarning: Recall and F-score are ill-defined and being set to 0.0 in labels with no true samples. Use `zero_division` parameter to control this behavior.\n",
      "  _warn_prf(average, modifier, msg_start, len(result))\n",
      "C:\\Users\\Areeba\\anaconda3\\lib\\site-packages\\sklearn\\metrics\\_classification.py:1245: UndefinedMetricWarning: Precision and F-score are ill-defined and being set to 0.0 in labels with no predicted samples. Use `zero_division` parameter to control this behavior.\n",
      "  _warn_prf(average, modifier, msg_start, len(result))\n",
      "C:\\Users\\Areeba\\anaconda3\\lib\\site-packages\\sklearn\\metrics\\_classification.py:1245: UndefinedMetricWarning: Recall and F-score are ill-defined and being set to 0.0 in labels with no true samples. Use `zero_division` parameter to control this behavior.\n",
      "  _warn_prf(average, modifier, msg_start, len(result))\n",
      "C:\\Users\\Areeba\\anaconda3\\lib\\site-packages\\sklearn\\metrics\\_classification.py:1245: UndefinedMetricWarning: Precision and F-score are ill-defined and being set to 0.0 in labels with no predicted samples. Use `zero_division` parameter to control this behavior.\n",
      "  _warn_prf(average, modifier, msg_start, len(result))\n",
      "C:\\Users\\Areeba\\anaconda3\\lib\\site-packages\\sklearn\\metrics\\_classification.py:1245: UndefinedMetricWarning: Recall and F-score are ill-defined and being set to 0.0 in labels with no true samples. Use `zero_division` parameter to control this behavior.\n",
      "  _warn_prf(average, modifier, msg_start, len(result))\n"
     ]
    }
   ],
   "source": [
    "from sklearn.ensemble import IsolationForest #classifier 3\n",
    "\n",
    "c3 = IsolationForest(random_state = 0)\n",
    "c3.fit(X_train, y_train)\n",
    "p = c3.predict(X_test)\n",
    "print (\"Accuracy : \" , accuracy_score(y_test,p)*100)  \n",
    "print(\"Report : \\n\", classification_report(y_test, p))\n",
    "print(\"F1 Score : \",f1_score(y_test, p, average='macro')*100)"
   ]
  },
  {
   "cell_type": "code",
   "execution_count": 38,
   "id": "0a4f674e",
   "metadata": {},
   "outputs": [
    {
     "name": "stderr",
     "output_type": "stream",
     "text": [
      "<ipython-input-38-807e716b5794>:5: DataConversionWarning: A column-vector y was passed when a 1d array was expected. Please change the shape of y to (n_samples,), for example using ravel().\n",
      "  c4.fit(X_train, y_train)\n"
     ]
    },
    {
     "name": "stdout",
     "output_type": "stream",
     "text": [
      "Accuracy :  91.01521047046339\n",
      "Report : \n",
      "               precision    recall  f1-score   support\n",
      "\n",
      "           0       0.95      1.00      0.97       697\n",
      "           1       0.84      0.86      0.85       715\n",
      "           2       0.98      0.99      0.99       705\n",
      "           3       0.88      0.79      0.83       710\n",
      "\n",
      "    accuracy                           0.91      2827\n",
      "   macro avg       0.91      0.91      0.91      2827\n",
      "weighted avg       0.91      0.91      0.91      2827\n",
      "\n",
      "F1 Score :  90.94274523805453\n"
     ]
    }
   ],
   "source": [
    " #classifier 4\n",
    "from sklearn.ensemble import RandomForestClassifier\n",
    "\n",
    "c4 = RandomForestClassifier(max_depth=None, random_state=0)\n",
    "c4.fit(X_train, y_train)\n",
    "p = c4.predict(X_test)\n",
    "print (\"Accuracy : \" , accuracy_score(y_test,p)*100)  \n",
    "print(\"Report : \\n\", classification_report(y_test, p))\n",
    "print(\"F1 Score : \",f1_score(y_test, p, average='macro')*100)"
   ]
  },
  {
   "cell_type": "code",
   "execution_count": 43,
   "id": "805e0b8f",
   "metadata": {},
   "outputs": [
    {
     "name": "stderr",
     "output_type": "stream",
     "text": [
      "C:\\Users\\Areeba\\anaconda3\\lib\\site-packages\\sklearn\\utils\\validation.py:63: DataConversionWarning: A column-vector y was passed when a 1d array was expected. Please change the shape of y to (n_samples, ), for example using ravel().\n",
      "  return f(*args, **kwargs)\n"
     ]
    },
    {
     "name": "stdout",
     "output_type": "stream",
     "text": [
      "Accuracy :  73.92996108949417\n",
      "Report : \n",
      "               precision    recall  f1-score   support\n",
      "\n",
      "           0       0.78      0.99      0.87       697\n",
      "           1       0.86      0.33      0.47       715\n",
      "           2       0.71      0.99      0.82       705\n",
      "           3       0.68      0.66      0.67       710\n",
      "\n",
      "    accuracy                           0.74      2827\n",
      "   macro avg       0.76      0.74      0.71      2827\n",
      "weighted avg       0.76      0.74      0.71      2827\n",
      "\n",
      "F1 Score :  71.10683914949578\n"
     ]
    }
   ],
   "source": [
    "from sklearn.ensemble import BaggingClassifier #classifier 5\n",
    "\n",
    "c5 = BaggingClassifier(KNeighborsClassifier(),max_samples=0.5, max_features=0.5)\n",
    "c5.fit(X_train, y_train)\n",
    "p = c5.predict(X_test)\n",
    "print (\"Accuracy : \" , accuracy_score(y_test,p)*100)  \n",
    "print(\"Report : \\n\", classification_report(y_test, p))\n",
    "print(\"F1 Score : \",f1_score(y_test, p, average='macro')*100)"
   ]
  },
  {
   "cell_type": "code",
   "execution_count": null,
   "id": "97844103",
   "metadata": {},
   "outputs": [],
   "source": [
    "# citations:\n",
    "# classifiers from sir's notebook uploaded on gcr\n",
    "#imblearn code from : https://satya-python.blogspot.com/2019/09/imblearn-python-imbalanced-learn-module.html\n",
    "#html code : https://www.w3docs.com/snippets/html/how-to-create-an-html-button-that-acts-like-a-link.html"
   ]
  },
  {
   "cell_type": "code",
   "execution_count": null,
   "id": "df82a5b5",
   "metadata": {},
   "outputs": [
    {
     "name": "stdout",
     "output_type": "stream",
     "text": [
      " * Serving Flask app \"__main__\" (lazy loading)\n",
      " * Environment: production\n",
      "   WARNING: This is a development server. Do not use it in a production deployment.\n",
      "   Use a production WSGI server instead.\n",
      " * Debug mode: off\n"
     ]
    },
    {
     "name": "stderr",
     "output_type": "stream",
     "text": [
      " * Running on http://127.0.0.1:5000/ (Press CTRL+C to quit)\n"
     ]
    }
   ],
   "source": [
    "from flask import Flask,render_template #linking flask\n",
    "\n",
    "app = Flask(__name__)\n",
    "\n",
    "@app.route(\"/\")\n",
    "def hello_world():\n",
    "    return render_template(\"web.html\")\n",
    "if __name__==\"__main__\":\n",
    "    app.run()"
   ]
  },
  {
   "cell_type": "code",
   "execution_count": null,
   "id": "46114cc7",
   "metadata": {},
   "outputs": [],
   "source": []
  }
 ],
 "metadata": {
  "kernelspec": {
   "display_name": "Python 3 (ipykernel)",
   "language": "python",
   "name": "python3"
  },
  "language_info": {
   "codemirror_mode": {
    "name": "ipython",
    "version": 3
   },
   "file_extension": ".py",
   "mimetype": "text/x-python",
   "name": "python",
   "nbconvert_exporter": "python",
   "pygments_lexer": "ipython3",
   "version": "3.11.7"
  }
 },
 "nbformat": 4,
 "nbformat_minor": 5
}
